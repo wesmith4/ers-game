{
 "cells": [
  {
   "cell_type": "code",
   "execution_count": 1,
   "source": [
    "from src.objects import *"
   ],
   "outputs": [],
   "metadata": {}
  },
  {
   "cell_type": "code",
   "execution_count": 2,
   "source": [
    "players = [Player(name) for name in ['Bob','Ted','Lisa']]\n",
    "game = Game(players)"
   ],
   "outputs": [],
   "metadata": {}
  },
  {
   "cell_type": "code",
   "execution_count": 3,
   "source": [
    "game.printStatus()"
   ],
   "outputs": [
    {
     "output_type": "stream",
     "name": "stdout",
     "text": [
      "Bob: 0 cards\n",
      "Ted: 0 cards\n",
      "Lisa: 0 cards\n",
      "Cards in stack: 0\n",
      "Total cards: 0\n"
     ]
    }
   ],
   "metadata": {}
  },
  {
   "cell_type": "code",
   "execution_count": 4,
   "source": [
    "game.shuffle_and_deal()\n",
    "game.printStatus()"
   ],
   "outputs": [
    {
     "output_type": "stream",
     "name": "stdout",
     "text": [
      "Bob: 18 cards\n",
      "Ted: 17 cards\n",
      "Lisa: 17 cards\n",
      "Cards in stack: 0\n",
      "Total cards: 52\n"
     ]
    }
   ],
   "metadata": {}
  },
  {
   "cell_type": "code",
   "execution_count": 5,
   "source": [
    "for i in range(20):\n",
    "    game.playTurn()\n",
    "game.printStatus()"
   ],
   "outputs": [
    {
     "output_type": "stream",
     "name": "stdout",
     "text": [
      "Turn 0\n",
      "Turn 1\n",
      "Turn 2\n",
      "Turn 0\n",
      "Turn 1\n",
      "Turn 2\n",
      "Turn 0\n",
      "Ted won a slap!\n",
      "Turn 1\n",
      "Turn 2\n",
      "Turn 0\n",
      "Turn 1\n",
      "Ted won a slap!\n",
      "Turn 1\n",
      "Turn 2\n",
      "Turn 0\n",
      "Turn 1\n",
      "Bob won a slap!\n",
      "Turn 0\n",
      "Turn 1\n",
      "Turn 2\n",
      "Turn 0\n",
      "Turn 1\n",
      "Bob: 15 cards\n",
      "Ted: 20 cards\n",
      "Lisa: 12 cards\n",
      "Cards in stack: 5\n",
      "Total cards: 52\n"
     ]
    }
   ],
   "metadata": {}
  },
  {
   "cell_type": "code",
   "execution_count": null,
   "source": [],
   "outputs": [],
   "metadata": {}
  }
 ],
 "metadata": {
  "orig_nbformat": 4,
  "language_info": {
   "name": "python",
   "version": "3.8.5",
   "mimetype": "text/x-python",
   "codemirror_mode": {
    "name": "ipython",
    "version": 3
   },
   "pygments_lexer": "ipython3",
   "nbconvert_exporter": "python",
   "file_extension": ".py"
  },
  "kernelspec": {
   "name": "python3",
   "display_name": "Python 3.8.5 64-bit ('base': conda)"
  },
  "interpreter": {
   "hash": "34bd5ec846e929ce527ba616a27748cf58c89cbe6f0fba6a9e72f608255f1369"
  }
 },
 "nbformat": 4,
 "nbformat_minor": 2
}